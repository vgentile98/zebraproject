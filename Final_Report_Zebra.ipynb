{
  "nbformat": 4,
  "nbformat_minor": 0,
  "metadata": {
    "colab": {
      "provenance": [],
      "authorship_tag": "ABX9TyNex3OmUtXu+AQcu/hxHNy4",
      "include_colab_link": true
    },
    "kernelspec": {
      "name": "python3",
      "display_name": "Python 3"
    },
    "language_info": {
      "name": "python"
    }
  },
  "cells": [
    {
      "cell_type": "markdown",
      "metadata": {
        "id": "view-in-github",
        "colab_type": "text"
      },
      "source": [
        "<a href=\"https://colab.research.google.com/github/vgentile98/zebraproject/blob/main/Final_Report_Zebra.ipynb\" target=\"_parent\"><img src=\"https://colab.research.google.com/assets/colab-badge.svg\" alt=\"Open In Colab\"/></a>"
      ]
    },
    {
      "cell_type": "markdown",
      "source": [
        "<h1>Final Report Zebra</h1>"
      ],
      "metadata": {
        "id": "oP1ITXjZ1q16"
      }
    },
    {
      "cell_type": "markdown",
      "source": [
        "# Context and Literature Review"
      ],
      "metadata": {
        "id": "RFUrPrweYyQ9"
      }
    },
    {
      "cell_type": "markdown",
      "source": [
        "Urgent climate actions are needed in order to limit the temperature increase to 1.5ºC above pre industrial levels and, consequently, to avoid reaching certain tipping points that will negatively impact life on Earth. While more and more countries are making net zero commitments in order to achieve this goal, they are still not effective enough. Part of the reason why we are currently lacking the implementation of robust climate change laws could lie in how parliaments are composed. As of 2023, parliaments are mostly composed of men, who occupy 74% of the seats (source) on average. Could having a higher representation of women in parliament result in the enforcement of more effective and robust laws to tackle climate change?\n",
        "\n",
        "Indeed, women tend to be more empathetic than men (source). This major level of empathy might be explained by the higher amount of time that they spend on tasks where children are involved (source) compared to men (source). In addition, there are other biological factors that might explain this fact, such as women’s prenatal hormones and men’s testosterone levels, that contribute to higher (source) and lower (source) degrees of empathy respectively. By being more empathetic, women show greater care about the global issues that climate change entails, not only the ones that are already hitting society today, but especially those that will affect future generations in a more harmful way and will endanger their lives.\n",
        "\n",
        "It is important to mention that the implementation of the aforementioned policies might come hand in hand with negative consequences in the short-term, such as the loss of jobs related to the fossil fuel industry that contributes to a relevant amount of greenhouse gasses emissions. However, these policies might avoid more severe long-term outcomes, such as the death of many human beings. Therefore, women might prioritize these fatal long-term consequences and, hence, show a stronger support towards the enforcement of climate change laws. In fact, jobs can be recovered, but lives do not.\n",
        "\n",
        "For all these reasons, it is important to estimate the effect that having more women in parliaments could have on the enforcement of robust and effective climate change laws and how this possible link might be strengthen by higher levels of women's empathy. In addition, other possible factors that might influence the relationship between these variables should be also assessed."
      ],
      "metadata": {
        "id": "D2Nk4RkUCOB0"
      }
    },
    {
      "cell_type": "markdown",
      "source": [
        "# Discussion on causality and methodology"
      ],
      "metadata": {
        "id": "JJJAWCvIY-Q7"
      }
    },
    {
      "cell_type": "markdown",
      "source": [],
      "metadata": {
        "id": "Y0-vqyT7ZPJ9"
      }
    },
    {
      "cell_type": "markdown",
      "source": [
        "![Image Alt Text](https://drive.google.com/uc?id=1KKAZyay5NZCp49zjX8sNlhRTALLCPWIs)"
      ],
      "metadata": {
        "id": "SHyyuQHrO4cL"
      }
    }
  ]
}