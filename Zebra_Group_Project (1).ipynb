{
  "nbformat": 4,
  "nbformat_minor": 0,
  "metadata": {
    "colab": {
      "provenance": []
    },
    "kernelspec": {
      "name": "python3",
      "display_name": "Python 3"
    },
    "language_info": {
      "name": "python"
    }
  },
  "cells": [
    {
      "cell_type": "markdown",
      "source": [
        "<h1><b>Zebra Project</b></h1>"
      ],
      "metadata": {
        "id": "x4yH-NIQ4LKq"
      }
    },
    {
      "cell_type": "markdown",
      "source": [
        "<a href=\"https://github.com/vgentile98/zebraproject/blob/c287fd756af5768da52774689963fb4f62df7c9c/Zebra_Group_Project.ipynb\" target=\"_blank\" rel=\"noopener\"><img src=\"https://colab.research.google.com/assets/colab-badge.svg\" alt=\"Open In Colab\"/></a>\n",
        "\n"
      ],
      "metadata": {
        "id": "qVRVyXyB34lk"
      }
    }
  ]
}